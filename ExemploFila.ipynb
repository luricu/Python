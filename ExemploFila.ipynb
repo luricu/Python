{
  "nbformat": 4,
  "nbformat_minor": 0,
  "metadata": {
    "colab": {
      "name": "fila.ipynb",
      "provenance": [],
      "include_colab_link": true
    },
    "kernelspec": {
      "name": "python3",
      "display_name": "Python 3"
    },
    "language_info": {
      "name": "python"
    }
  },
  "cells": [
    {
      "cell_type": "markdown",
      "metadata": {
        "id": "view-in-github",
        "colab_type": "text"
      },
      "source": [
        "<a href=\"https://colab.research.google.com/github/luricu/Python/blob/Curso-GTI/ExemploFila.ipynb\" target=\"_parent\"><img src=\"https://colab.research.google.com/assets/colab-badge.svg\" alt=\"Open In Colab\"/></a>"
      ]
    },
    {
      "cell_type": "code",
      "metadata": {
        "id": "njonyvYsFSYa"
      },
      "source": [
        "fila = []\n",
        "\n",
        "fila.append(\"Fernando\")\n",
        "fila.append(\"Joana\")\n",
        "fila.append(\"Carlos\")\n",
        "fila.append(\"Fabiana\")"
      ],
      "execution_count": null,
      "outputs": []
    },
    {
      "cell_type": "code",
      "metadata": {
        "colab": {
          "base_uri": "https://localhost:8080/"
        },
        "id": "oIdtooq_G-GN",
        "outputId": "02597a96-2c1d-4fd8-e304-ebb01aa2d63a"
      },
      "source": [
        "fila"
      ],
      "execution_count": null,
      "outputs": [
        {
          "output_type": "execute_result",
          "data": {
            "text/plain": [
              "['Fernando', 'Joana', 'Carlos', 'Fabiana']"
            ]
          },
          "metadata": {
            "tags": []
          },
          "execution_count": 6
        }
      ]
    },
    {
      "cell_type": "code",
      "metadata": {
        "id": "-HSrxKjoHBTw"
      },
      "source": [
        "def retiraCliente():\n",
        "  if len(fila) > 0:\n",
        "    cliente = fila.pop(0)\n",
        "    print(cliente)\n",
        "  else:\n",
        "    print(\"Fila vazia\")"
      ],
      "execution_count": null,
      "outputs": []
    },
    {
      "cell_type": "code",
      "metadata": {
        "colab": {
          "base_uri": "https://localhost:8080/"
        },
        "id": "g-NhOLmqHQ9x",
        "outputId": "d984c7fa-5730-4ac3-abca-80cd44b1e147"
      },
      "source": [
        "retiraCliente()"
      ],
      "execution_count": null,
      "outputs": [
        {
          "output_type": "stream",
          "text": [
            "Fila vazia\n"
          ],
          "name": "stdout"
        }
      ]
    },
    {
      "cell_type": "code",
      "metadata": {
        "id": "hionWdY1JJdJ"
      },
      "source": [
        "fila.append(\"João\")"
      ],
      "execution_count": null,
      "outputs": []
    },
    {
      "cell_type": "code",
      "metadata": {
        "colab": {
          "base_uri": "https://localhost:8080/"
        },
        "id": "9v4_vrliJS-C",
        "outputId": "dea819e7-180f-4ed7-d3c5-5a6b27d1f0c4"
      },
      "source": [
        "retiraCliente()"
      ],
      "execution_count": null,
      "outputs": [
        {
          "output_type": "stream",
          "text": [
            "João\n"
          ],
          "name": "stdout"
        }
      ]
    },
    {
      "cell_type": "code",
      "metadata": {
        "colab": {
          "base_uri": "https://localhost:8080/"
        },
        "id": "Hi9fXxAPJWH4",
        "outputId": "83e9c514-b5af-4a10-fe0c-0cd8f56beb4b"
      },
      "source": [
        "fila"
      ],
      "execution_count": null,
      "outputs": [
        {
          "output_type": "execute_result",
          "data": {
            "text/plain": [
              "[]"
            ]
          },
          "metadata": {
            "tags": []
          },
          "execution_count": 20
        }
      ]
    },
    {
      "cell_type": "code",
      "metadata": {
        "colab": {
          "base_uri": "https://localhost:8080/"
        },
        "id": "pY_CVWNNJbPp",
        "outputId": "c735612c-3810-45c0-e97c-98139d6eefa7"
      },
      "source": [
        "retiraCliente()"
      ],
      "execution_count": null,
      "outputs": [
        {
          "output_type": "stream",
          "text": [
            "Fila vazia\n"
          ],
          "name": "stdout"
        }
      ]
    },
    {
      "cell_type": "code",
      "metadata": {
        "id": "VqqzApSEJfTJ"
      },
      "source": [
        ""
      ],
      "execution_count": null,
      "outputs": []
    }
  ]
}