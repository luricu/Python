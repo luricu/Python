{
  "nbformat": 4,
  "nbformat_minor": 0,
  "metadata": {
    "colab": {
      "name": "Lista4.ipynb",
      "provenance": [],
      "collapsed_sections": [],
      "include_colab_link": true
    },
    "kernelspec": {
      "name": "python3",
      "display_name": "Python 3"
    },
    "language_info": {
      "name": "python"
    }
  },
  "cells": [
    {
      "cell_type": "markdown",
      "metadata": {
        "id": "view-in-github",
        "colab_type": "text"
      },
      "source": [
        "<a href=\"https://colab.research.google.com/github/luricu/Python/blob/Curso-GTI/ExemploPilha.ipynb\" target=\"_parent\"><img src=\"https://colab.research.google.com/assets/colab-badge.svg\" alt=\"Open In Colab\"/></a>"
      ]
    },
    {
      "cell_type": "code",
      "metadata": {
        "id": "JIXTFjgDNem6"
      },
      "source": [
        "# Estrutura de dados = Pilha, pois retira o último elemento que foi adicionado\n",
        "\n",
        "#Função para percorrer a palavra e empilhar os caracteres\n",
        "def verificaPalavra(palavra):\n",
        "  tamanho = len(palavra)\n",
        "  pilha = []\n",
        "  for i in range(0, tamanho):\n",
        "    if palavra[i]!=\"#\":\n",
        "      pilha = empilha(palavra[i], pilha)\n",
        "    else:\n",
        "      pilha = desempilha(pilha)\n",
        "  return pilha\n",
        "\n",
        "def empilha(caractere, local):\n",
        "  local.append(caractere)\n",
        "  return local\n",
        "\n",
        "def desempilha(local):\n",
        "  if len(local)>0:\n",
        "    local.pop(-1)\n",
        "  return local"
      ],
      "execution_count": null,
      "outputs": []
    },
    {
      "cell_type": "code",
      "metadata": {
        "colab": {
          "base_uri": "https://localhost:8080/"
        },
        "id": "xe39UDjTSm4b",
        "outputId": "15fc40bf-3021-4ac3-d563-0d11e064f491"
      },
      "source": [
        "palavra1 = \"lápix#s\"\n",
        "palavra2 = \"ma#ousee#\"\n",
        "\n",
        "pilha1 = verificaPalavra(palavra1)\n",
        "pilha2 = verificaPalavra(palavra2)\n",
        "\n",
        "if pilha1 == pilha2:\n",
        "  print(\"As palavras são idênticas\")\n",
        "else:\n",
        "  print(\"As palavras são diferentes\")"
      ],
      "execution_count": null,
      "outputs": [
        {
          "output_type": "stream",
          "text": [
            "As palavras são diferentes\n"
          ],
          "name": "stdout"
        }
      ]
    },
    {
      "cell_type": "code",
      "metadata": {
        "id": "o0hV3RdYVsRU"
      },
      "source": [
        ""
      ],
      "execution_count": null,
      "outputs": []
    }
  ]
}